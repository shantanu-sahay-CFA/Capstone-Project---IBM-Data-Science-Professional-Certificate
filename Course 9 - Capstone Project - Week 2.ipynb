{
 "cells": [
  {
   "cell_type": "markdown",
   "metadata": {},
   "source": [
    "# IBM Data Science Professional Certificate\n",
    "Course 9 - Applied Data Science Capstone"
   ]
  },
  {
   "cell_type": "markdown",
   "metadata": {},
   "source": [
    "This note book will be used for building the Data Science Capstone Projet"
   ]
  },
  {
   "cell_type": "markdown",
   "metadata": {},
   "source": [
    "## Business Background and Project Objectives\n",
    "\n",
    "#### Project Goal\n",
    "\n",
    "This project aims to build a predictive model for severity of road accidents based on several contributing factors such as Road Conditions, Weather Conditions etc.\n",
    "\n",
    "\n",
    "#### Project Background\n",
    "\n",
    "Road accidents cause enormous physical, psychological, and economic damage to individuals, families, communities and the country as a whole. The yearly hit on the US economy due to road accidents is estimated to be between 1 to 1.5 trillion dollars. According to US Center for Disease Control and Prevention (CDC) \"Road traffic crashes are a leading cause of death in the United States for people aged 1–54 and the leading cause of non-natural death for healthy U.S. citizens residing or traveling abroad.\" (Source:https://www.cdc.gov/injury/features/global-road-safety/index.html)\n",
    "\n",
    "A model that can provide insights on factors that contribute to the severity of accidents, and also predict it based on the inferences drawn from the previously available data can be a very helpful tool in preventing and responding to severe road accidents. Some likely uses of the model might include:\n",
    "1. Urban/City Planners, who will be able to predict/calculte the severity of accidents based on risk factors identified in the model. They can put time and resources to reduce the risk factors on existing roads that are contributing to more severe accidents. They will also be able to include outputs from this model for planning newer projects.\n",
    "2. Emergency Services responders who will be able to predict the severity of an accident based on the location and conditions of the accident, and respond and plan accordingly.\n",
    "3. Ordinary drivers, who can use this model to predict hazardous road conditions that might lead to severe accidents. For that to happen though, this model will need to be made available to ordinary users through technologically and commercially viable platforms.\n",
    "\n",
    "Although, it may seem easy and obvious that severity of accideents will depend on road conditions, weather conditions, speed of vehicles, angle of collisions etc, but determining how these factors interact with each other and to what extent, is not a trivial exercise. Therefore we will use machine learning techniques to create a model that would learn from the historical records of a large number of accidents in the Seattle area, inn orer to come up with predictions on severity of accidents based on contributing factors. "
   ]
  },
  {
   "cell_type": "markdown",
   "metadata": {},
   "source": [
    "## Data and expected use of that data\n",
    "\n",
    "For this project I will be using the Seattle Road accident data set downloaded from the link: https://data-seattlecitygis.opendata.arcgis.com/datasets/5b5c745e0f1f48e7a53acec63a0022ab_0\n",
    "\n",
    "The data set has records of more than 220,000 accidents in the Seattle area, that are labelled according to their severity. The time period of the data is from 2004 to Sept 2020. The data st has 40 columns that provide details about the accident such as weather conditions, collision type, date/time of accident and location etc. Our Label (predictor variable/target variable) is 'SEVERITYCODE'and has values 0,1,2,2b,and 3 indicating severity of the accident, with 3 being an accident of highest severity involving fatality.\n",
    "\n",
    "The data in its present form is not directly usable for analysis and modeling. Some of the issues related to the data are:\n",
    "1. Imbalanced labeled data\n",
    "2. Many columns are not useful for the analysis\n",
    "3. There are many missing values in various columns\n",
    "4. Non-standardised data columns\n",
    "5. Presence of categorical/non-numeric data\n",
    "\n",
    "So I will be doing data pre-processing to mitigate the ussues listed above, before starting my analysis and modeling. Once incorporated in the model, we would be able to use this data to predict the severity of accidents based on the chosen columns (attributes) from the data set.\n"
   ]
  },
  {
   "cell_type": "code",
   "execution_count": 1,
   "metadata": {},
   "outputs": [],
   "source": [
    "import pandas as pd"
   ]
  },
  {
   "cell_type": "code",
   "execution_count": 2,
   "metadata": {},
   "outputs": [],
   "source": [
    "import numpy as np"
   ]
  },
  {
   "cell_type": "code",
   "execution_count": 2,
   "metadata": {},
   "outputs": [
    {
     "name": "stdout",
     "output_type": "stream",
     "text": [
      "Hello Capstone Project Course!\n"
     ]
    }
   ],
   "source": [
    "print(\"Hello Capstone Project Course!\")"
   ]
  }
 ],
 "metadata": {
  "kernelspec": {
   "display_name": "Python 3",
   "language": "python",
   "name": "python3"
  },
  "language_info": {
   "codemirror_mode": {
    "name": "ipython",
    "version": 3
   },
   "file_extension": ".py",
   "mimetype": "text/x-python",
   "name": "python",
   "nbconvert_exporter": "python",
   "pygments_lexer": "ipython3",
   "version": "3.6.6"
  }
 },
 "nbformat": 4,
 "nbformat_minor": 2
}
